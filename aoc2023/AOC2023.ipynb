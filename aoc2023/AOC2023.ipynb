{
  "nbformat": 4,
  "nbformat_minor": 0,
  "metadata": {
    "colab": {
      "provenance": [],
      "authorship_tag": "ABX9TyO/7ky4MzqPMM0csp3EG3cz"
    },
    "kernelspec": {
      "name": "python3",
      "display_name": "Python 3"
    },
    "language_info": {
      "name": "python"
    }
  },
  "cells": [
    {
      "cell_type": "code",
      "execution_count": 32,
      "metadata": {
        "id": "E7EQAOXO0DrJ"
      },
      "outputs": [],
      "source": [
        "def loadinputs(ex=''):\n",
        "    with open(f\"input{ex}.txt\") as f:\n",
        "        return [l.strip() for l in f.readlines()]"
      ]
    },
    {
      "cell_type": "markdown",
      "source": [
        "# DAY2"
      ],
      "metadata": {
        "id": "uPjHSDL50ahc"
      }
    },
    {
      "cell_type": "code",
      "source": [
        "from collections import Counter\n",
        "I = loadinputs('e')\n",
        "\n",
        "def p1proc(I):\n",
        "    gid = {}\n",
        "    for rl in I:\n",
        "        rg, rv = rl.split(':')\n",
        "        MC = Counter()\n",
        "        rv = rv.replace(';', ',')\n",
        "        for fields in rv.split(', '):\n",
        "            v, k = fields.split()\n",
        "            k = k.strip()\n",
        "            MC[k] = max(MC[k], int(v))\n",
        "        gid[int(rg.split()[-1])] = MC\n",
        "    return gid\n",
        "\n",
        "c1d = {'red': 12, 'green': 13, 'blue': 14}\n",
        "c1d = Counter(c1d)"
      ],
      "metadata": {
        "id": "sPd9D5hB0c8z"
      },
      "execution_count": null,
      "outputs": []
    },
    {
      "cell_type": "code",
      "source": [
        "p1d = p1proc(loadinputs())\n",
        "s1 = 0\n",
        "s2 = 0\n",
        "for k, v in p1d.items():\n",
        "    if c1d > v:\n",
        "        s1 += k\n",
        "    p = 1\n",
        "    for vv in v.values():\n",
        "        p *= vv\n",
        "    s2 += p\n",
        "print(s1)\n",
        "print(s2)"
      ],
      "metadata": {
        "colab": {
          "base_uri": "https://localhost:8080/"
        },
        "id": "AayxbHXJ1I0F",
        "outputId": "6e95fc89-9f47-4997-b7cd-3a24c577435c"
      },
      "execution_count": null,
      "outputs": [
        {
          "output_type": "stream",
          "name": "stdout",
          "text": [
            "2278\n",
            "67953\n"
          ]
        }
      ]
    },
    {
      "cell_type": "markdown",
      "source": [
        "# DAY3\n"
      ],
      "metadata": {
        "id": "NFXJR6CmCsPE"
      }
    },
    {
      "cell_type": "code",
      "source": [
        "I = loadinputs('e')\n",
        "ld3 = lambda x: [list(_) for _ in loadinputs(x)]\n",
        "dir = ((1,0), (-1, 0), (0, 1), (0,-1), (1,1), (-1,-1), (-1, 1), (1, -1))\n",
        "len(I), len(I[0])"
      ],
      "metadata": {
        "id": "VU-tmRpS9YEE",
        "colab": {
          "base_uri": "https://localhost:8080/"
        },
        "outputId": "cc481ae6-046c-44b5-9a91-6e47496bd65b"
      },
      "execution_count": null,
      "outputs": [
        {
          "output_type": "execute_result",
          "data": {
            "text/plain": [
              "(10, 10)"
            ]
          },
          "metadata": {},
          "execution_count": 7
        }
      ]
    },
    {
      "cell_type": "code",
      "source": [
        "def lim(r, c, n):\n",
        "    return (0 <= r < n) and (0 <= c < n)"
      ],
      "metadata": {
        "id": "2kYoquTHDXeV"
      },
      "execution_count": null,
      "outputs": []
    },
    {
      "cell_type": "code",
      "source": [
        "def dfs1(grid, r, c, n, check=False):\n",
        "    C = grid[r][c]\n",
        "    num = ''\n",
        "    if C.isdigit():\n",
        "        num += C\n",
        "        grid[r][c] = '.'\n",
        "        for dr, dc in dir:\n",
        "            nr, nc = r + dr, c + dc\n",
        "            if lim(nr, nc, n):\n",
        "                res = dfs1(grid, nr, nc, n, check)\n",
        "                num += res[0]\n",
        "                check |= res[1]\n",
        "    elif C != '.' and not C.isalnum():\n",
        "        check = True\n",
        "    return num, check\n",
        "\n",
        "dfs1(ld3('e'), 0, 0, 12)"
      ],
      "metadata": {
        "colab": {
          "base_uri": "https://localhost:8080/"
        },
        "id": "OEro4htXE0LF",
        "outputId": "eed43a28-28bf-40c2-fec9-d53aa247410f"
      },
      "execution_count": null,
      "outputs": [
        {
          "output_type": "execute_result",
          "data": {
            "text/plain": [
              "('467', True)"
            ]
          },
          "metadata": {},
          "execution_count": 34
        }
      ]
    },
    {
      "cell_type": "code",
      "source": [
        "def part1(grid):\n",
        "    N = len(grid)\n",
        "    s1 = 0\n",
        "    for i in range(N):\n",
        "        for j in range(N):\n",
        "            if grid[i][j].isdigit():\n",
        "                res = dfs1(grid, i, j, N)\n",
        "                if res[1]:\n",
        "                    s1 += int(res[0])\n",
        "    return s1"
      ],
      "metadata": {
        "id": "-fiqBq_8GxZG"
      },
      "execution_count": null,
      "outputs": []
    },
    {
      "cell_type": "code",
      "source": [
        "part1(ld3(''))"
      ],
      "metadata": {
        "colab": {
          "base_uri": "https://localhost:8080/"
        },
        "id": "Hx7zlMwgKklN",
        "outputId": "780a3ad6-1b26-4e48-d6d4-4d23edb49fdb"
      },
      "execution_count": null,
      "outputs": [
        {
          "output_type": "execute_result",
          "data": {
            "text/plain": [
              "544664"
            ]
          },
          "metadata": {},
          "execution_count": 40
        }
      ]
    },
    {
      "cell_type": "code",
      "source": [
        "from copy import deepcopy, copy\n",
        "def dfs2(grid, r, c, n):\n",
        "    num = ''\n",
        "    if grid[r][c].isdigit():\n",
        "        r, c = goleft(grid, r, c, n)\n",
        "        num += grid[r][c]\n",
        "        grid[r][c] = '.'\n",
        "        for dr, dc in dir:\n",
        "            nr, nc = r + dr, c + dc\n",
        "            if lim(nr, nc, n):\n",
        "                num += dfs2(grid, nr, nc, n)\n",
        "    return num\n",
        "\n",
        "def goleft(grid, r, c, n):\n",
        "    while lim(r, c, n) and grid[r][c].isdigit():\n",
        "        c -= 1\n",
        "    return r, c + 1\n",
        "\n",
        "def gearratio(grid, r, c, n):\n",
        "    NC = []\n",
        "    for dr, dc in dir:\n",
        "        nr, nc = r + dr, c + dc\n",
        "        if lim(nr, nc, n) and grid[nr][nc].isdigit():\n",
        "            NC.append(int(dfs2(grid, nr, nc, n)))\n",
        "    return 0 if len(NC) != 2 else NC[0]*NC[1]\n",
        "\n",
        "gearratio(ld3('e'), 1, 3, 10)"
      ],
      "metadata": {
        "colab": {
          "base_uri": "https://localhost:8080/"
        },
        "id": "yhdztAFDKnOt",
        "outputId": "894f7df7-3f8d-43bf-fad8-823d07639946"
      },
      "execution_count": null,
      "outputs": [
        {
          "output_type": "execute_result",
          "data": {
            "text/plain": [
              "16345"
            ]
          },
          "metadata": {},
          "execution_count": 90
        }
      ]
    },
    {
      "cell_type": "code",
      "source": [
        "def part2(grid):\n",
        "    n = len(grid)\n",
        "    s2 = 0\n",
        "    for i in range(n):\n",
        "        for j in range(n):\n",
        "            if grid[i][j] == '*':\n",
        "                s2 += gearratio(grid, i, j, n)\n",
        "    return s2\n"
      ],
      "metadata": {
        "id": "2liHss0_OOj9"
      },
      "execution_count": null,
      "outputs": []
    },
    {
      "cell_type": "code",
      "source": [
        "part2(ld3(''))"
      ],
      "metadata": {
        "colab": {
          "base_uri": "https://localhost:8080/"
        },
        "id": "Nou3FV96Qke1",
        "outputId": "60508cde-fc64-473c-d8e3-e53528c28736"
      },
      "execution_count": null,
      "outputs": [
        {
          "output_type": "execute_result",
          "data": {
            "text/plain": [
              "84495585"
            ]
          },
          "metadata": {},
          "execution_count": 95
        }
      ]
    },
    {
      "cell_type": "markdown",
      "source": [
        "# DAY4"
      ],
      "metadata": {
        "id": "XN3ncW2CMiZq"
      }
    },
    {
      "cell_type": "code",
      "source": [
        "def ld4(x):\n",
        "    I = [l.split(':')[1].split('|') for l in loadinputs(x)]\n",
        "    NI = []\n",
        "    for u, v in I:\n",
        "        U = set(int(_) for _ in u.split())\n",
        "        V = set(int(_) for _ in v.split())\n",
        "        NI.append((U, V))\n",
        "    return NI\n",
        "ld4('e')"
      ],
      "metadata": {
        "id": "KLw3xUkvTzxF",
        "colab": {
          "base_uri": "https://localhost:8080/"
        },
        "outputId": "ca059f64-76c1-4094-a30b-5f3ae8260689"
      },
      "execution_count": null,
      "outputs": [
        {
          "output_type": "execute_result",
          "data": {
            "text/plain": [
              "[({17, 41, 48, 83, 86}, {6, 9, 17, 31, 48, 53, 83, 86}),\n",
              " ({13, 16, 20, 32, 61}, {17, 19, 24, 30, 32, 61, 68, 82}),\n",
              " ({1, 21, 44, 53, 59}, {1, 14, 16, 21, 63, 69, 72, 82}),\n",
              " ({41, 69, 73, 84, 92}, {5, 51, 54, 58, 59, 76, 83, 84}),\n",
              " ({26, 28, 32, 83, 87}, {12, 22, 30, 36, 70, 82, 88, 93}),\n",
              " ({13, 18, 31, 56, 72}, {10, 11, 23, 35, 36, 67, 74, 77})]"
            ]
          },
          "metadata": {},
          "execution_count": 17
        }
      ]
    },
    {
      "cell_type": "code",
      "source": [
        "def part1(x):\n",
        "    s1 = 0\n",
        "    for U, V in ld4(x):\n",
        "        L = len(U & V)\n",
        "        s1 += 2 ** (L - 1) if L else 0\n",
        "    return s1"
      ],
      "metadata": {
        "id": "LiZgQS2cNVI9"
      },
      "execution_count": null,
      "outputs": []
    },
    {
      "cell_type": "code",
      "source": [
        "part1('')"
      ],
      "metadata": {
        "colab": {
          "base_uri": "https://localhost:8080/"
        },
        "id": "USynWtjKO5-E",
        "outputId": "a0ba2327-79e3-4ae6-b581-9a3e6ed98158"
      },
      "execution_count": null,
      "outputs": [
        {
          "output_type": "execute_result",
          "data": {
            "text/plain": [
              "20407"
            ]
          },
          "metadata": {},
          "execution_count": 21
        }
      ]
    },
    {
      "cell_type": "code",
      "source": [
        "def wind(x):\n",
        "    return [len(U & V) for U, V in ld4(x)]\n",
        "\n",
        "def part2(x):\n",
        "    W = wind(x)\n",
        "    N = len(W)\n",
        "    cards = [1] * N\n",
        "    for i in range(N):\n",
        "        for j in range(1, W[i] + 1):\n",
        "            n = i + j\n",
        "            if n < N:\n",
        "                cards[n] += cards[i]\n",
        "    return sum(cards)\n",
        "part2('e')"
      ],
      "metadata": {
        "colab": {
          "base_uri": "https://localhost:8080/"
        },
        "id": "YAw6yyY5O72d",
        "outputId": "9e845940-3bb4-4e61-bd36-de0d2ff91167"
      },
      "execution_count": null,
      "outputs": [
        {
          "output_type": "execute_result",
          "data": {
            "text/plain": [
              "30"
            ]
          },
          "metadata": {},
          "execution_count": 25
        }
      ]
    },
    {
      "cell_type": "code",
      "source": [
        "part2('')"
      ],
      "metadata": {
        "colab": {
          "base_uri": "https://localhost:8080/"
        },
        "id": "kii94VvRRYpF",
        "outputId": "06373ea2-11a3-4572-eabe-bacdf90b74ae"
      },
      "execution_count": null,
      "outputs": [
        {
          "output_type": "execute_result",
          "data": {
            "text/plain": [
              "23806951"
            ]
          },
          "metadata": {},
          "execution_count": 26
        }
      ]
    },
    {
      "cell_type": "markdown",
      "source": [
        "# DAY5"
      ],
      "metadata": {
        "id": "AmIr1S-PYY0A"
      }
    },
    {
      "cell_type": "code",
      "source": [
        "from collections import defaultdict\n",
        "\n",
        "def ld5(x):\n",
        "    RI = loadinputs(x)\n",
        "    MD = defaultdict(list)\n",
        "    prec = []\n",
        "    for l in RI[1:]:\n",
        "        if l == '':\n",
        "            continue\n",
        "        if l[0].isalpha():\n",
        "            cs, cd = l[:-5].split('-to-')\n",
        "            prec.append(cs)\n",
        "        elif l[0].isdigit():\n",
        "            MD[cs].append([int(_) for _ in l.split()])\n",
        "    for k in MD:\n",
        "        MD[k].sort(key=lambda x: x[1])\n",
        "    return MD, [int(_) for _ in RI[0][7:].split()], prec\n",
        "\n",
        "ld5('e')"
      ],
      "metadata": {
        "id": "BguzrjnnS21m",
        "colab": {
          "base_uri": "https://localhost:8080/"
        },
        "outputId": "ab5d5bad-42ca-4ecd-e662-ef04463144d1"
      },
      "execution_count": 33,
      "outputs": [
        {
          "output_type": "execute_result",
          "data": {
            "text/plain": [
              "(defaultdict(list,\n",
              "             {'seed': [[52, 50, 48], [50, 98, 2]],\n",
              "              'soil': [[39, 0, 15], [0, 15, 37], [37, 52, 2]],\n",
              "              'fertilizer': [[42, 0, 7], [57, 7, 4], [0, 11, 42], [49, 53, 8]],\n",
              "              'water': [[88, 18, 7], [18, 25, 70]],\n",
              "              'light': [[81, 45, 19], [68, 64, 13], [45, 77, 23]],\n",
              "              'temperature': [[1, 0, 69], [0, 69, 1]],\n",
              "              'humidity': [[60, 56, 37], [56, 93, 4]]}),\n",
              " [79, 14, 55, 13],\n",
              " ['seed', 'soil', 'fertilizer', 'water', 'light', 'temperature', 'humidity'])"
            ]
          },
          "metadata": {},
          "execution_count": 33
        }
      ]
    },
    {
      "cell_type": "code",
      "source": [
        "def getdest(num, src, MD):\n",
        "    for d, s, r in MD[src]:\n",
        "        if s <= num < s + r:\n",
        "            return d + num - s\n",
        "    return num\n",
        "\n",
        "def getseedloc(num, MD, prec):\n",
        "    for src in prec:\n",
        "        num = getdest(num, src, MD)\n",
        "    return num\n",
        "\n",
        "def part1(x):\n",
        "    mapdict, seeds, prec = ld5(x)\n",
        "    return min(getseedloc(seed, mapdict, prec) for seed in seeds)\n",
        "part1('e')"
      ],
      "metadata": {
        "colab": {
          "base_uri": "https://localhost:8080/"
        },
        "id": "CGwfWXvRYvAK",
        "outputId": "073d5e4c-b315-4c27-c599-fd5aa5a79cec"
      },
      "execution_count": 34,
      "outputs": [
        {
          "output_type": "execute_result",
          "data": {
            "text/plain": [
              "35"
            ]
          },
          "metadata": {},
          "execution_count": 34
        }
      ]
    },
    {
      "cell_type": "code",
      "source": [
        "part1('')"
      ],
      "metadata": {
        "colab": {
          "base_uri": "https://localhost:8080/"
        },
        "id": "9n-IlPDseydI",
        "outputId": "4643c138-6fa0-4eb2-fe12-dc987121901d"
      },
      "execution_count": 35,
      "outputs": [
        {
          "output_type": "execute_result",
          "data": {
            "text/plain": [
              "825516882"
            ]
          },
          "metadata": {},
          "execution_count": 35
        }
      ]
    },
    {
      "cell_type": "code",
      "source": [
        "from tqdm import tqdm\n",
        "\n",
        "def getdest2(R, src, MD):\n",
        "    res = []\n",
        "    for u, v, w in MD[src]:\n",
        "        ms, me = v, v + w\n",
        "        for _ in range(len(R)):\n",
        "            s, e = R.pop(0)\n",
        "            bef = (s, min(e, ms))\n",
        "            ov = (max(s, ms), min(e, me))\n",
        "            aft = (max(me, s), e)\n",
        "            if bef[1] > bef[0]:\n",
        "                R.append(bef)\n",
        "            if ov[1] > ov[0]:\n",
        "                res.append((u + ov[0] - ms, u + ov[1] - ms))\n",
        "            if aft[1] > aft[0]:\n",
        "                R.append(aft)\n",
        "    return res + R\n",
        "\n",
        "def part2(x):\n",
        "    mapdict, seeds, prec = ld5(x)\n",
        "    R = [(seeds[i], seeds[i] + seeds[i + 1]) for i in range(0, len(seeds), 2)]\n",
        "    for src in prec:\n",
        "        R = getdest2(R, src, mapdict)\n",
        "    return min(R)[0]\n",
        "part2('e')"
      ],
      "metadata": {
        "colab": {
          "base_uri": "https://localhost:8080/"
        },
        "id": "82mMQWd-gkXq",
        "outputId": "bbcb1cf0-ea1a-4dfa-9947-f8090c5c9b08"
      },
      "execution_count": 49,
      "outputs": [
        {
          "output_type": "execute_result",
          "data": {
            "text/plain": [
              "46"
            ]
          },
          "metadata": {},
          "execution_count": 49
        }
      ]
    },
    {
      "cell_type": "code",
      "source": [
        "part2('')"
      ],
      "metadata": {
        "colab": {
          "base_uri": "https://localhost:8080/"
        },
        "id": "J8TMP33hiM17",
        "outputId": "7c587960-29c9-49f1-ed4c-caf4eb48ec26"
      },
      "execution_count": 50,
      "outputs": [
        {
          "output_type": "execute_result",
          "data": {
            "text/plain": [
              "136096660"
            ]
          },
          "metadata": {},
          "execution_count": 50
        }
      ]
    },
    {
      "cell_type": "markdown",
      "source": [
        "# DAY6"
      ],
      "metadata": {
        "id": "uoxd7Lu2dwWW"
      }
    },
    {
      "cell_type": "code",
      "source": [
        "import re\n",
        "\n",
        "minitr = lambda x: [int(_) for _ in re.sub(' +', ' ', x).split()[1:]]\n",
        "\n",
        "def ld6(x):\n",
        "    T, D = [minitr(l) for l in loadinputs(x)]\n",
        "    return zip(T, D)\n",
        "\n",
        "list(ld6('e'))"
      ],
      "metadata": {
        "id": "WdNcXqh-iT6p",
        "colab": {
          "base_uri": "https://localhost:8080/"
        },
        "outputId": "82eb286a-de72-4a87-873a-1af15f79ef07"
      },
      "execution_count": 10,
      "outputs": [
        {
          "output_type": "execute_result",
          "data": {
            "text/plain": [
              "[(7, 9), (15, 40), (30, 200)]"
            ]
          },
          "metadata": {},
          "execution_count": 10
        }
      ]
    },
    {
      "cell_type": "code",
      "source": [
        "def getways1(T, D):\n",
        "    w = 0\n",
        "    for i in range(1, T):\n",
        "        w += D < (T - i) * i\n",
        "    return w\n",
        "\n",
        "def part1(x):\n",
        "    pr = 1\n",
        "    for T, D in ld6(x):\n",
        "        pr *= getways1(T, D)\n",
        "    return pr\n",
        "\n",
        "part1('e')"
      ],
      "metadata": {
        "colab": {
          "base_uri": "https://localhost:8080/"
        },
        "id": "H3HYJcFFd1Cb",
        "outputId": "ad893193-316b-4ead-dd82-a7e5bc956da5"
      },
      "execution_count": 14,
      "outputs": [
        {
          "output_type": "execute_result",
          "data": {
            "text/plain": [
              "288"
            ]
          },
          "metadata": {},
          "execution_count": 14
        }
      ]
    },
    {
      "cell_type": "code",
      "source": [
        "part1('')"
      ],
      "metadata": {
        "colab": {
          "base_uri": "https://localhost:8080/"
        },
        "id": "sj7U-Ry9kF7L",
        "outputId": "de227752-d5d5-4bdc-a083-6d14ddd95207"
      },
      "execution_count": 15,
      "outputs": [
        {
          "output_type": "execute_result",
          "data": {
            "text/plain": [
              "2344708"
            ]
          },
          "metadata": {},
          "execution_count": 15
        }
      ]
    },
    {
      "cell_type": "code",
      "source": [
        "from math import floor, ceil\n",
        "\n",
        "p62t = lambda x: int(x.replace(' ', '').split(':')[1])\n",
        "\n",
        "def ld62(x):\n",
        "    return [p62t(l) for l in loadinputs(x)]\n",
        "\n",
        "print(ld62('e'))\n",
        "def form(n, l):\n",
        "    R = (n**2 - 4*l) ** 0.5\n",
        "    return floor((n + R)/ 2) - ceil((n - R)/2) + 1\n",
        "\n",
        "def part2(x):\n",
        "    T, D = ld62(x)\n",
        "    return form(T, D)\n",
        "part2('e')"
      ],
      "metadata": {
        "colab": {
          "base_uri": "https://localhost:8080/"
        },
        "id": "4uvXCX9ukpn8",
        "outputId": "4ca12d40-4cc1-41da-94bd-b85df01e058b"
      },
      "execution_count": 26,
      "outputs": [
        {
          "output_type": "stream",
          "name": "stdout",
          "text": [
            "[71530, 940200]\n"
          ]
        },
        {
          "output_type": "execute_result",
          "data": {
            "text/plain": [
              "71503"
            ]
          },
          "metadata": {},
          "execution_count": 26
        }
      ]
    },
    {
      "cell_type": "code",
      "source": [
        "part2('')"
      ],
      "metadata": {
        "colab": {
          "base_uri": "https://localhost:8080/"
        },
        "id": "ymfcPba8mCjl",
        "outputId": "28104b57-a35d-4ec3-aca1-9c8580ccbab3"
      },
      "execution_count": 27,
      "outputs": [
        {
          "output_type": "execute_result",
          "data": {
            "text/plain": [
              "30125202"
            ]
          },
          "metadata": {},
          "execution_count": 27
        }
      ]
    },
    {
      "cell_type": "code",
      "source": [],
      "metadata": {
        "id": "NypDCpN6npXE"
      },
      "execution_count": null,
      "outputs": []
    }
  ]
}