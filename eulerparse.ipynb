{
  "nbformat": 4,
  "nbformat_minor": 0,
  "metadata": {
    "colab": {
      "name": "eulerparse.ipynb",
      "provenance": []
    },
    "kernelspec": {
      "name": "python3",
      "display_name": "Python 3"
    }
  },
  "cells": [
    {
      "cell_type": "code",
      "metadata": {
        "id": "OABwbFe2-wHw"
      },
      "source": [
        "from bs4 import BeautifulSoup\n",
        "import requests\n",
        "from time import sleep"
      ],
      "execution_count": 3,
      "outputs": []
    },
    {
      "cell_type": "code",
      "metadata": {
        "id": "69SrjgVqA3gY"
      },
      "source": [
        "base_url = 'https://projecteuler.net/archives;page='"
      ],
      "execution_count": 2,
      "outputs": []
    },
    {
      "cell_type": "code",
      "metadata": {
        "id": "utdaGR9sB0C2"
      },
      "source": [
        "allcols = []\n",
        "for i in range(1, 16):\n",
        "    page = requests.get(f'{base_url}{i}')\n",
        "    page = BeautifulSoup(page.text, 'html.parser')\n",
        "    allcols += [[ele.text.strip() for ele in row.find_all('td')] for row in page.find_all('tr')][1:]"
      ],
      "execution_count": 18,
      "outputs": []
    },
    {
      "cell_type": "code",
      "metadata": {
        "id": "uky0vwL6CT6R"
      },
      "source": [
        "with open('names.txt', 'w') as f:\n",
        "    for row in allcols:\n",
        "        f.write(row[1] + '\\n')"
      ],
      "execution_count": 22,
      "outputs": []
    },
    {
      "cell_type": "code",
      "metadata": {
        "id": "oBhw6hfqR2C1"
      },
      "source": [
        ""
      ],
      "execution_count": null,
      "outputs": []
    }
  ]
}